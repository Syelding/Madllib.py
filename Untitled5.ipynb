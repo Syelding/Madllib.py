{
  "nbformat": 4,
  "nbformat_minor": 0,
  "metadata": {
    "colab": {
      "provenance": [],
      "authorship_tag": "ABX9TyMXSdnv59mIgPohUO2o0iaA",
      "include_colab_link": true
    },
    "kernelspec": {
      "name": "python3",
      "display_name": "Python 3"
    },
    "language_info": {
      "name": "python"
    }
  },
  "cells": [
    {
      "cell_type": "markdown",
      "metadata": {
        "id": "view-in-github",
        "colab_type": "text"
      },
      "source": [
        "<a href=\"https://colab.research.google.com/github/Syelding/Madllib.py/blob/main/Untitled5.ipynb\" target=\"_parent\"><img src=\"https://colab.research.google.com/assets/colab-badge.svg\" alt=\"Open In Colab\"/></a>"
      ]
    },
    {
      "cell_type": "markdown",
      "source": [
        "## MadLib Generator"
      ],
      "metadata": {
        "id": "I_haf60J0rVN"
      }
    },
    {
      "cell_type": "code",
      "source": [
        "verb_1 = input(\"Enter a verb of choice, and press enter:\")\n",
        "adj_1 = input(\"Enter a ajective of choice, and press enter:\")\n",
        "verb_2 = input(\"Enter second verb of choice, and press enter:\")\n",
        "body_part = input(\"Enter a body part name of choice, and press enter:\")\n",
        "adverb = input(\"Enter an adverb of choice, and press enter:\")\n",
        "body_part_2 = input(\"Enter any body name of your choice,and press enter:\")\n",
        "noun = input(\"Enter a noun of choice, and press enter:\")\n",
        "verb_3 = input(\"Enter the third verb of choice, and press enter:\")\n",
        "animal = input(\"Enter name of any animal of choice, and press enter:\")\n",
        "noun_2 = input(\"Enter an noun of choice , and press enter:\")\n",
        "verb_4 = input(\"Enter the fourth verb of choice, and press enter:\")\n",
        "adj_2 = input(\"Enter an adjective of chioce, and press enter:\")\n",
        "color = input(\"Enter any color name, and press enter:\")\n",
        "\n",
        "\n",
        "\n",
        "story = \"Most doctors agree that bicycle of\" + verb_1 + \" is a/an \" + adj_1 + \" form of exercise.\" + verb_2 +\" a bicycle enables you to develop your \" + body_part + \" muscles as well as \" + adverb + \" increase the rate of a \" + body_part_2+\" beat. More \" + noun + \" around the world \"+ verb_3 +\" bicycles than drive \"+ animal +\". No matter what kind of \"+ noun_2 +\"you \"+verb_4+\", always be sure to wear a/an \"+adj_2+\" helmet.Make sure to have  \" + color + \" reflectors too! \"\n",
        "\n",
        "print(story)\n"
      ],
      "metadata": {
        "colab": {
          "base_uri": "https://localhost:8080/"
        },
        "id": "5Uufo6Rz1YOB",
        "outputId": "3b3049f1-dd70-47d8-8194-7d9fade11527"
      },
      "execution_count": 6,
      "outputs": [
        {
          "output_type": "stream",
          "name": "stdout",
          "text": [
            "Enter a verb of choice, and press enter:dissappera\n",
            "Enter a ajective of choice, and press enter:destitute\n",
            "Enter second verb of choice, and press enter:singing\n",
            "Enter a body part name of choice, and press enter:legs\n",
            "Enter an adverb of choice, and press enter:quickly\n",
            "Enter any body name of your choice,and press enter:heart\n",
            "Enter a noun of choice, and press enter:time\n",
            "Enter the third verb of choice, and press enter:dancing\n",
            "Enter name of any animal of choice, and press enter:squirrels\n",
            "Enter an noun of choice , and press enter:house\n",
            "Enter the fourth verb of choice, and press enter:laughing\n",
            "Enter an adjective of chioce, and press enter:big\n",
            "Enter any color name, and press enter:green\n",
            "Most doctors agree that bicycle ofdissappera is a/an destitute form of exercise.singing a bicycle enables you to develop your legs muscles as well as quickly increase the rate of a heart beat. More time around the world dancing bicycles than drive squirrels. No matter what kind of houseyou laughing, always be sure to wear a/an big helmet.Make sure to have  green reflectors too! \n"
          ]
        }
      ]
    },
    {
      "cell_type": "code",
      "source": [],
      "metadata": {
        "id": "p9z8rtVf1ukM"
      },
      "execution_count": null,
      "outputs": []
    }
  ]
}